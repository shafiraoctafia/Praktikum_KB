{
 "cells": [
  {
   "cell_type": "markdown",
   "id": "52bffd31",
   "metadata": {},
   "source": [
    "___________________________________________________________________\n",
    "\n",
    "### Nama : Shafira Octafia\n",
    "### NIM    : 2109106023\n",
    "\n",
    "### POSTTEST 7 KECERDASAN BUATAN\n",
    "____________________________________________________________________\n"
   ]
  },
  {
   "cell_type": "markdown",
   "id": "3a8542b9",
   "metadata": {},
   "source": [
    "------------------------------------------------------------------------\n",
    "### Import Library\n",
    "------------------------------------------------------------------------"
   ]
  },
  {
   "cell_type": "code",
   "execution_count": 1,
   "id": "a0c672fd",
   "metadata": {},
   "outputs": [],
   "source": [
    "import tensorflow as tf"
   ]
  },
  {
   "cell_type": "markdown",
   "id": "b76ca833",
   "metadata": {},
   "source": [
    "------------------------------------------------------------------\n",
    "### Buatlah sebuah tensor dengan shape(5,5) dengan nilai random yang disimpan dalam variable random_tensor.\n",
    "------------------------------------------------------------------"
   ]
  },
  {
   "cell_type": "code",
   "execution_count": 2,
   "id": "28907e79",
   "metadata": {},
   "outputs": [
    {
     "data": {
      "text/plain": [
       "array([[-0.3220609 , -0.08344333,  1.3176668 ,  0.15323028,  1.1481619 ],\n",
       "       [ 0.96934086,  1.2273245 , -1.2606068 , -0.9355057 , -0.15194264],\n",
       "       [ 0.23491187, -0.35050672,  0.5650251 , -0.00869344,  1.9004605 ],\n",
       "       [ 1.2529993 , -1.1940279 ,  0.3078881 ,  0.61891717,  0.9613365 ],\n",
       "       [ 0.34918466,  0.24141505,  1.7705227 ,  0.3498441 , -0.08316787]],\n",
       "      dtype=float32)"
      ]
     },
     "execution_count": 2,
     "metadata": {},
     "output_type": "execute_result"
    }
   ],
   "source": [
    "random_tensor = tf.random.normal([5,5])\n",
    "random_tensor.numpy()"
   ]
  },
  {
   "cell_type": "markdown",
   "id": "bc75ca90",
   "metadata": {},
   "source": [
    "--------------------------------------------------------------------\n",
    "### Buatlah sebuah tensor dengan shape(5,5) dari sebuah list dengan nilai bilangan prima dalam variable prime_tensor.\n",
    "--------------------------------------------------------------------"
   ]
  },
  {
   "cell_type": "code",
   "execution_count": 3,
   "id": "d3f3662b",
   "metadata": {},
   "outputs": [
    {
     "data": {
      "text/plain": [
       "array([[ 2.,  3.,  5.,  7., 11.],\n",
       "       [13., 17., 19., 23., 29.],\n",
       "       [31., 37., 41., 43., 47.],\n",
       "       [53., 59., 61., 67., 71.],\n",
       "       [73., 79., 83., 89., 97.]], dtype=float32)"
      ]
     },
     "execution_count": 3,
     "metadata": {},
     "output_type": "execute_result"
    }
   ],
   "source": [
    "prime_tensor = tf.constant([2, 3, 5, 7, 11, \n",
    "                            13, 17, 19, 23, 29,\n",
    "                            31, 37, 41, 43, 47, \n",
    "                            53, 59, 61, 67, 71, \n",
    "                            73, 79, 83, 89, 97], shape=[5,5], dtype=tf.float32)\n",
    "prime_tensor.numpy()"
   ]
  },
  {
   "cell_type": "markdown",
   "id": "b762dbbf",
   "metadata": {},
   "source": [
    "----------------------------------------------------------------------\n",
    "### Tampilkan dimensi dari kedua variable tersebut.\n",
    "-----------------------------------------------------------------------"
   ]
  },
  {
   "cell_type": "code",
   "execution_count": 4,
   "id": "d7e7fb71",
   "metadata": {},
   "outputs": [
    {
     "data": {
      "text/plain": [
       "TensorShape([5, 5])"
      ]
     },
     "execution_count": 4,
     "metadata": {},
     "output_type": "execute_result"
    }
   ],
   "source": [
    "# Menampilkan Dimensi Random_Tensor\n",
    "dimensi_random = tf.constant(['random_tensor'], shape=[5,5])\n",
    "dimensi_random.shape"
   ]
  },
  {
   "cell_type": "code",
   "execution_count": 5,
   "id": "cf0fa7fc",
   "metadata": {},
   "outputs": [
    {
     "data": {
      "text/plain": [
       "<tf.Tensor: shape=(2,), dtype=int32, numpy=array([5, 5])>"
      ]
     },
     "execution_count": 5,
     "metadata": {},
     "output_type": "execute_result"
    }
   ],
   "source": [
    "tf.shape(dimensi_random)"
   ]
  },
  {
   "cell_type": "code",
   "execution_count": 6,
   "id": "1869f0ad",
   "metadata": {},
   "outputs": [
    {
     "data": {
      "text/plain": [
       "TensorShape([5, 5])"
      ]
     },
     "execution_count": 6,
     "metadata": {},
     "output_type": "execute_result"
    }
   ],
   "source": [
    "# Menampilkan Dimensi Primer_Tensor\n",
    "dimensi_prime = tf.constant(['prime_tensor'], shape=[5,5])\n",
    "dimensi_prime.shape"
   ]
  },
  {
   "cell_type": "code",
   "execution_count": 7,
   "id": "7077bd81",
   "metadata": {},
   "outputs": [
    {
     "data": {
      "text/plain": [
       "<tf.Tensor: shape=(2,), dtype=int32, numpy=array([5, 5])>"
      ]
     },
     "execution_count": 7,
     "metadata": {},
     "output_type": "execute_result"
    }
   ],
   "source": [
    "tf.shape(dimensi_prime)"
   ]
  },
  {
   "cell_type": "markdown",
   "id": "89269eda",
   "metadata": {},
   "source": [
    "----------------------------------------------------------------------\n",
    "### Tampilkan hasil dari perhitungan aritmetika 2 variable tersebut (Gunakan minimal 5 operator).\n",
    "-------------------------------------------------------------------------"
   ]
  },
  {
   "cell_type": "markdown",
   "id": "abb80297",
   "metadata": {},
   "source": [
    "--------------------------------------------------------------------\n",
    "#### Operator Penjumlahan\n",
    "---------------------------------------------------------------------"
   ]
  },
  {
   "cell_type": "code",
   "execution_count": 11,
   "id": "466efbfe",
   "metadata": {},
   "outputs": [
    {
     "name": "stdout",
     "output_type": "stream",
     "text": [
      "----------------------------------------------------------\n",
      "  Hasil Dari Penjumlahan Random_Tensor Dan Primer_Tensor  \n",
      "----------------------------------------------------------\n"
     ]
    },
    {
     "data": {
      "text/plain": [
       "array([[ 1.677939 ,  2.9165566,  6.317667 ,  7.15323  , 12.148162 ],\n",
       "       [13.969341 , 18.227325 , 17.739393 , 22.064495 , 28.848057 ],\n",
       "       [31.234911 , 36.649494 , 41.565025 , 42.991306 , 48.90046  ],\n",
       "       [54.253    , 57.805973 , 61.307888 , 67.61892  , 71.961334 ],\n",
       "       [73.34918  , 79.24142  , 84.77052  , 89.349846 , 96.91683  ]],\n",
       "      dtype=float32)"
      ]
     },
     "execution_count": 11,
     "metadata": {},
     "output_type": "execute_result"
    }
   ],
   "source": [
    "print(\"----------------------------------------------------------\")\n",
    "print(\"  Hasil Dari Penjumlahan Random_Tensor Dan Primer_Tensor  \")\n",
    "print(\"----------------------------------------------------------\")\n",
    "penjumlahan = random_tensor + prime_tensor\n",
    "penjumlahan.numpy()"
   ]
  },
  {
   "cell_type": "markdown",
   "id": "b646ffa1",
   "metadata": {},
   "source": [
    "--------------------------------------------------------------------\n",
    "#### Operator Pengurangan\n",
    "-------------------------------------------------------------------"
   ]
  },
  {
   "cell_type": "code",
   "execution_count": 12,
   "id": "39ce2868",
   "metadata": {},
   "outputs": [
    {
     "name": "stdout",
     "output_type": "stream",
     "text": [
      "----------------------------------------------------------\n",
      "  Hasil Dari Pengurangan Random_Tensor Dan Primer_Tensor  \n",
      "----------------------------------------------------------\n"
     ]
    },
    {
     "data": {
      "text/plain": [
       "array([[ -2.3220608,  -3.0834434,  -3.6823332,  -6.84677  ,  -9.851838 ],\n",
       "       [-12.030659 , -15.7726755, -20.260607 , -23.935505 , -29.151943 ],\n",
       "       [-30.765089 , -37.350506 , -40.434975 , -43.008694 , -45.09954  ],\n",
       "       [-51.747    , -60.194027 , -60.692112 , -66.38108  , -70.038666 ],\n",
       "       [-72.65082  , -78.75858  , -81.22948  , -88.650154 , -97.08317  ]],\n",
       "      dtype=float32)"
      ]
     },
     "execution_count": 12,
     "metadata": {},
     "output_type": "execute_result"
    }
   ],
   "source": [
    "print(\"----------------------------------------------------------\")\n",
    "print(\"  Hasil Dari Pengurangan Random_Tensor Dan Primer_Tensor  \")\n",
    "print(\"----------------------------------------------------------\")\n",
    "pengurangan = random_tensor - prime_tensor\n",
    "pengurangan.numpy()"
   ]
  },
  {
   "cell_type": "markdown",
   "id": "fc1dc238",
   "metadata": {},
   "source": [
    "---------------------------------------------------------------------\n",
    "#### Operator Pembagian\n",
    "--------------------------------------------------------------------"
   ]
  },
  {
   "cell_type": "code",
   "execution_count": 13,
   "id": "2b3c93f7",
   "metadata": {},
   "outputs": [
    {
     "name": "stdout",
     "output_type": "stream",
     "text": [
      "----------------------------------------------------------\n",
      "    Hasil Dari Pembagian Random_Tensor Dan Primer_Tensor  \n",
      "----------------------------------------------------------\n"
     ]
    },
    {
     "data": {
      "text/plain": [
       "array([[-1.6103046e-01, -2.7814442e-02,  2.6353335e-01,  2.1890040e-02,\n",
       "         1.0437835e-01],\n",
       "       [ 7.4564680e-02,  7.2195560e-02, -6.6347726e-02, -4.0674161e-02,\n",
       "        -5.2394015e-03],\n",
       "       [ 7.5778025e-03, -9.4731543e-03,  1.3781100e-02, -2.0217296e-04,\n",
       "         4.0435329e-02],\n",
       "       [ 2.3641497e-02, -2.0237761e-02,  5.0473455e-03,  9.2375698e-03,\n",
       "         1.3539950e-02],\n",
       "       [ 4.7833514e-03,  3.0558868e-03,  2.1331599e-02,  3.9308327e-03,\n",
       "        -8.5740077e-04]], dtype=float32)"
      ]
     },
     "execution_count": 13,
     "metadata": {},
     "output_type": "execute_result"
    }
   ],
   "source": [
    "print(\"----------------------------------------------------------\")\n",
    "print(\"    Hasil Dari Pembagian Random_Tensor Dan Primer_Tensor  \")\n",
    "print(\"----------------------------------------------------------\")\n",
    "pembagian = random_tensor / prime_tensor\n",
    "pembagian.numpy()"
   ]
  },
  {
   "cell_type": "markdown",
   "id": "9869e787",
   "metadata": {},
   "source": [
    "-----------------------------------------------------------------------\n",
    "#### Operator Perkalian\n",
    "-----------------------------------------------------------------------"
   ]
  },
  {
   "cell_type": "code",
   "execution_count": 14,
   "id": "c7c6fbd9",
   "metadata": {},
   "outputs": [
    {
     "name": "stdout",
     "output_type": "stream",
     "text": [
      "----------------------------------------------------------\n",
      "    Hasil Dari Perkalian Random_Tensor Dan Primer_Tensor  \n",
      "----------------------------------------------------------\n"
     ]
    },
    {
     "data": {
      "text/plain": [
       "array([[ -0.6441218 ,  -0.25032997,   6.588334  ,   1.0726119 ,\n",
       "         12.629781  ],\n",
       "       [ 12.601431  ,  20.864517  , -23.951529  , -21.51663   ,\n",
       "         -4.406337  ],\n",
       "       [  7.282268  , -12.968749  ,  23.166029  ,  -0.3738178 ,\n",
       "         89.32164   ],\n",
       "       [ 66.408966  , -70.44765   ,  18.781174  ,  41.46745   ,\n",
       "         68.25489   ],\n",
       "       [ 25.49048   ,  19.071789  , 146.95338   ,  31.136126  ,\n",
       "         -8.067284  ]], dtype=float32)"
      ]
     },
     "execution_count": 14,
     "metadata": {},
     "output_type": "execute_result"
    }
   ],
   "source": [
    "print(\"----------------------------------------------------------\")\n",
    "print(\"    Hasil Dari Perkalian Random_Tensor Dan Primer_Tensor  \")\n",
    "print(\"----------------------------------------------------------\")\n",
    "perkalian = random_tensor * prime_tensor\n",
    "perkalian.numpy()"
   ]
  },
  {
   "cell_type": "markdown",
   "id": "b752a3a8",
   "metadata": {},
   "source": [
    "--------------------------------------------------------------------\n",
    "#### Operator Modulus\n",
    "--------------------------------------------------------------------"
   ]
  },
  {
   "cell_type": "code",
   "execution_count": 16,
   "id": "300c50ff",
   "metadata": {},
   "outputs": [
    {
     "name": "stdout",
     "output_type": "stream",
     "text": [
      "----------------------------------------------------------\n",
      "    Hasil Dari Sisa Bagi Random_Tensor Dan Primer_Tensor  \n",
      "----------------------------------------------------------\n"
     ]
    },
    {
     "data": {
      "text/plain": [
       "array([[ 1.677939  ,  2.9165566 ,  1.3176668 ,  0.15323028,  1.1481619 ],\n",
       "       [ 0.96934086,  1.2273245 , 17.739393  , 22.064495  , 28.848057  ],\n",
       "       [ 0.23491187, 36.649494  ,  0.5650251 , 42.991306  ,  1.9004605 ],\n",
       "       [ 1.2529993 , 57.805973  ,  0.3078881 ,  0.61891717,  0.9613365 ],\n",
       "       [ 0.34918466,  0.24141505,  1.7705227 ,  0.3498441 , 96.91683   ]],\n",
       "      dtype=float32)"
      ]
     },
     "execution_count": 16,
     "metadata": {},
     "output_type": "execute_result"
    }
   ],
   "source": [
    "print(\"----------------------------------------------------------\")\n",
    "print(\"    Hasil Dari Sisa Bagi Random_Tensor Dan Primer_Tensor  \")\n",
    "print(\"----------------------------------------------------------\")\n",
    "modulus = random_tensor % prime_tensor\n",
    "modulus.numpy()"
   ]
  },
  {
   "cell_type": "markdown",
   "id": "b1beff3e",
   "metadata": {},
   "source": [
    "----------------------------------------------------------------\n",
    "#### Operator Pemangkatan\n",
    "---------------------------------------------------------------"
   ]
  },
  {
   "cell_type": "code",
   "execution_count": 18,
   "id": "29d1068e",
   "metadata": {},
   "outputs": [
    {
     "name": "stdout",
     "output_type": "stream",
     "text": [
      "----------------------------------------------------------------\n",
      "  Hasil Dari Pemangkatan Antara Random_Tensor Dan Primer_Tensor \n",
      "----------------------------------------------------------------\n"
     ]
    },
    {
     "data": {
      "text/plain": [
       "array([[ 1.0372323e-01, -5.8099831e-04,  3.9721713e+00,  1.9834085e-06,\n",
       "         4.5712438e+00],\n",
       "       [ 6.6710585e-01,  3.2531925e+01, -8.1472878e+01, -2.1580820e-01,\n",
       "        -1.8565662e-24],\n",
       "       [ 3.1481402e-20, -1.4248365e-17,  6.8356071e-11, -0.0000000e+00,\n",
       "         1.2775139e+13],\n",
       "       [ 1.5537961e+05, -3.4982758e+04,  6.1939301e-32,  1.0949126e-14,\n",
       "         6.0835272e-02],\n",
       "       [ 4.3956854e-34,  0.0000000e+00,  3.9122330e+20,  0.0000000e+00,\n",
       "        -0.0000000e+00]], dtype=float32)"
      ]
     },
     "execution_count": 18,
     "metadata": {},
     "output_type": "execute_result"
    }
   ],
   "source": [
    "print(\"----------------------------------------------------------------\")\n",
    "print(\"  Hasil Dari Pemangkatan Antara Random_Tensor Dan Primer_Tensor \")\n",
    "print(\"----------------------------------------------------------------\")\n",
    "pemangkatan = random_tensor ** prime_tensor\n",
    "pemangkatan.numpy()"
   ]
  },
  {
   "cell_type": "markdown",
   "id": "736be654",
   "metadata": {},
   "source": [
    "----------------------------------------------------------------------\n",
    "#### Pembagian Bulat\n",
    "-----------------------------------------------------------------------"
   ]
  },
  {
   "cell_type": "code",
   "execution_count": 19,
   "id": "eef3ee5a",
   "metadata": {},
   "outputs": [
    {
     "name": "stdout",
     "output_type": "stream",
     "text": [
      "--------------------------------------------------------------------\n",
      "  Hasil Dari Pembagian Bulat Antara Random_Tensor Dan Primer_Tensor \n",
      "--------------------------------------------------------------------\n"
     ]
    },
    {
     "data": {
      "text/plain": [
       "array([[-1., -1.,  0.,  0.,  0.],\n",
       "       [ 0.,  0., -1., -1., -1.],\n",
       "       [ 0., -1.,  0., -1.,  0.],\n",
       "       [ 0., -1.,  0.,  0.,  0.],\n",
       "       [ 0.,  0.,  0.,  0., -1.]], dtype=float32)"
      ]
     },
     "execution_count": 19,
     "metadata": {},
     "output_type": "execute_result"
    }
   ],
   "source": [
    "print(\"--------------------------------------------------------------------\")\n",
    "print(\"  Hasil Dari Pembagian Bulat Antara Random_Tensor Dan Primer_Tensor \")\n",
    "print(\"--------------------------------------------------------------------\")\n",
    "pembagian_bulat = random_tensor // prime_tensor\n",
    "pembagian_bulat.numpy()"
   ]
  },
  {
   "cell_type": "markdown",
   "id": "f91cf46a",
   "metadata": {},
   "source": [
    "-----------------------------------------------------------------------\n",
    "### Tampilkan nilai maksimum dan minimum dari variable random_tensor.\n",
    "----------------------------------------------------------------------"
   ]
  },
  {
   "cell_type": "markdown",
   "id": "d95c0aa0",
   "metadata": {},
   "source": [
    "--------------------------------------------------------------------\n",
    "#### Nilai Maksimum Random_Tensor\n",
    "--------------------------------------------------------------------"
   ]
  },
  {
   "cell_type": "code",
   "execution_count": 23,
   "id": "a70f9d0b",
   "metadata": {},
   "outputs": [
    {
     "name": "stdout",
     "output_type": "stream",
     "text": [
      "--------------------------------------------------------------------\n",
      "            Nilai Maksimum Random_Tensor Terletak Di Index          \n",
      "--------------------------------------------------------------------\n"
     ]
    },
    {
     "data": {
      "text/plain": [
       "array([3, 1, 4, 3, 2], dtype=int64)"
      ]
     },
     "execution_count": 23,
     "metadata": {},
     "output_type": "execute_result"
    }
   ],
   "source": [
    "print(\"--------------------------------------------------------------------\")\n",
    "print(\"            Nilai Maksimum Random_Tensor Terletak Di Index          \")\n",
    "print(\"--------------------------------------------------------------------\")\n",
    "max_random_tensor = tf.argmax(random_tensor, axis = 0)\n",
    "max_random_tensor.numpy()"
   ]
  },
  {
   "cell_type": "code",
   "execution_count": null,
   "id": "b1b11705",
   "metadata": {},
   "outputs": [],
   "source": []
  },
  {
   "cell_type": "code",
   "execution_count": 24,
   "id": "6ecba546",
   "metadata": {},
   "outputs": [
    {
     "name": "stdout",
     "output_type": "stream",
     "text": [
      "--------------------------------------------------------------------\n",
      "             Nilai Minimum Random_Tensor Terletak Di Index          \n",
      "--------------------------------------------------------------------\n"
     ]
    },
    {
     "data": {
      "text/plain": [
       "array([0, 3, 1, 1, 1], dtype=int64)"
      ]
     },
     "execution_count": 24,
     "metadata": {},
     "output_type": "execute_result"
    }
   ],
   "source": [
    "print(\"--------------------------------------------------------------------\")\n",
    "print(\"             Nilai Minimum Random_Tensor Terletak Di Index          \")\n",
    "print(\"--------------------------------------------------------------------\")\n",
    "min_random_tensor = tf.argmin(random_tensor, axis = 0)\n",
    "min_random_tensor.numpy()"
   ]
  },
  {
   "cell_type": "markdown",
   "id": "1a71add8",
   "metadata": {},
   "source": [
    "--------------------------------------------------------------------\n",
    "### Tampilkan hasil dari penggabungan variable random_tensor dengan prime_tensor (concatenation)\n",
    "----------------------------------------------------------------------"
   ]
  },
  {
   "cell_type": "code",
   "execution_count": 25,
   "id": "e0c0aa7c",
   "metadata": {},
   "outputs": [
    {
     "data": {
      "text/plain": [
       "<tf.Tensor: shape=(10, 5), dtype=float32, numpy=\n",
       "array([[-3.2206091e-01, -8.3443329e-02,  1.3176668e+00,  1.5323028e-01,\n",
       "         1.1481619e+00],\n",
       "       [ 9.6934086e-01,  1.2273245e+00, -1.2606068e+00, -9.3550569e-01,\n",
       "        -1.5194264e-01],\n",
       "       [ 2.3491187e-01, -3.5050672e-01,  5.6502509e-01, -8.6934371e-03,\n",
       "         1.9004605e+00],\n",
       "       [ 1.2529993e+00, -1.1940279e+00,  3.0788809e-01,  6.1891717e-01,\n",
       "         9.6133649e-01],\n",
       "       [ 3.4918466e-01,  2.4141505e-01,  1.7705227e+00,  3.4984410e-01,\n",
       "        -8.3167873e-02],\n",
       "       [ 2.0000000e+00,  3.0000000e+00,  5.0000000e+00,  7.0000000e+00,\n",
       "         1.1000000e+01],\n",
       "       [ 1.3000000e+01,  1.7000000e+01,  1.9000000e+01,  2.3000000e+01,\n",
       "         2.9000000e+01],\n",
       "       [ 3.1000000e+01,  3.7000000e+01,  4.1000000e+01,  4.3000000e+01,\n",
       "         4.7000000e+01],\n",
       "       [ 5.3000000e+01,  5.9000000e+01,  6.1000000e+01,  6.7000000e+01,\n",
       "         7.1000000e+01],\n",
       "       [ 7.3000000e+01,  7.9000000e+01,  8.3000000e+01,  8.9000000e+01,\n",
       "         9.7000000e+01]], dtype=float32)>"
      ]
     },
     "execution_count": 25,
     "metadata": {},
     "output_type": "execute_result"
    }
   ],
   "source": [
    "concat_random_prime = tf.concat([random_tensor, prime_tensor], axis =0)\n",
    "concat_random_prime"
   ]
  },
  {
   "cell_type": "markdown",
   "id": "e4451d20",
   "metadata": {},
   "source": [
    "---------------------------------------------------------------------\n",
    "### Tampilkan hasil sorting dari kedua variable di atas (descending)\n",
    "--------------------------------------------------------------------"
   ]
  },
  {
   "cell_type": "markdown",
   "id": "a03a5e1d",
   "metadata": {},
   "source": [
    "---------------------------------------------------------------------\n",
    "#### Sorting  Random_Tensor secara Ascending\n",
    "--------------------------------------------------------------------"
   ]
  },
  {
   "cell_type": "code",
   "execution_count": 26,
   "id": "31cc8e5a",
   "metadata": {},
   "outputs": [
    {
     "name": "stdout",
     "output_type": "stream",
     "text": [
      "--------------------------------------------------------------------\n",
      "                           Sorting Random_Tensor                    \n",
      "--------------------------------------------------------------------\n"
     ]
    },
    {
     "data": {
      "text/plain": [
       "array([[ 1.3176668 ,  1.1481619 ,  0.15323028, -0.08344333, -0.3220609 ],\n",
       "       [ 1.2273245 ,  0.96934086, -0.15194264, -0.9355057 , -1.2606068 ],\n",
       "       [ 1.9004605 ,  0.5650251 ,  0.23491187, -0.00869344, -0.35050672],\n",
       "       [ 1.2529993 ,  0.9613365 ,  0.61891717,  0.3078881 , -1.1940279 ],\n",
       "       [ 1.7705227 ,  0.3498441 ,  0.34918466,  0.24141505, -0.08316787]],\n",
       "      dtype=float32)"
      ]
     },
     "execution_count": 26,
     "metadata": {},
     "output_type": "execute_result"
    }
   ],
   "source": [
    "print(\"--------------------------------------------------------------------\")\n",
    "print(\"                           Sorting Random_Tensor                    \")\n",
    "print(\"--------------------------------------------------------------------\")\n",
    "desc_random_tensor = tf.sort(random_tensor, direction=\"DESCENDING\")\n",
    "desc_random_tensor.numpy()"
   ]
  },
  {
   "cell_type": "markdown",
   "id": "62232a95",
   "metadata": {},
   "source": [
    "----------------------------------------------------------------------\n",
    "#### Sorting Prime_Tensor secara Ascending\n",
    "---------------------------------------------------------------------"
   ]
  },
  {
   "cell_type": "code",
   "execution_count": 27,
   "id": "998296d9",
   "metadata": {},
   "outputs": [
    {
     "name": "stdout",
     "output_type": "stream",
     "text": [
      "--------------------------------------------------------------------\n",
      "                           Sorting Random_Tensor                    \n",
      "--------------------------------------------------------------------\n"
     ]
    },
    {
     "data": {
      "text/plain": [
       "array([[11.,  7.,  5.,  3.,  2.],\n",
       "       [29., 23., 19., 17., 13.],\n",
       "       [47., 43., 41., 37., 31.],\n",
       "       [71., 67., 61., 59., 53.],\n",
       "       [97., 89., 83., 79., 73.]], dtype=float32)"
      ]
     },
     "execution_count": 27,
     "metadata": {},
     "output_type": "execute_result"
    }
   ],
   "source": [
    "print(\"--------------------------------------------------------------------\")\n",
    "print(\"                           Sorting Random_Tensor                    \")\n",
    "print(\"--------------------------------------------------------------------\")\n",
    "desc_prime_tensor = tf.sort(prime_tensor, direction=\"DESCENDING\")\n",
    "desc_prime_tensor.numpy()"
   ]
  },
  {
   "cell_type": "code",
   "execution_count": null,
   "id": "e6cbee4f",
   "metadata": {},
   "outputs": [],
   "source": []
  }
 ],
 "metadata": {
  "kernelspec": {
   "display_name": "Python 3 (ipykernel)",
   "language": "python",
   "name": "python3"
  },
  "language_info": {
   "codemirror_mode": {
    "name": "ipython",
    "version": 3
   },
   "file_extension": ".py",
   "mimetype": "text/x-python",
   "name": "python",
   "nbconvert_exporter": "python",
   "pygments_lexer": "ipython3",
   "version": "3.10.7"
  }
 },
 "nbformat": 4,
 "nbformat_minor": 5
}
