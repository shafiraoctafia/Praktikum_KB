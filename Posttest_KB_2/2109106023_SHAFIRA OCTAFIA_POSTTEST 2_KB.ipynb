{
 "cells": [
  {
   "cell_type": "markdown",
   "id": "58d20d0a",
   "metadata": {},
   "source": [
    "## Posttest 2 Kecerdasan buatan\n",
    "### Menganalisis Dataset IMDB Horror movies\n",
    "\n",
    "\n",
    "Untuk menganalisi data set kita membutuhkan library python dengan mengimport pandas as pd\n",
    "\n",
    "df.info() : Berfungsi untuk menampilkan informasi lebih detail mengenai struktur dataset\n",
    "\n",
    "df.head() : Berfungsi untuk menampilkan data pertama"
   ]
  },
  {
   "cell_type": "code",
   "execution_count": 27,
   "id": "000165d0",
   "metadata": {},
   "outputs": [
    {
     "data": {
      "text/html": [
       "<div>\n",
       "<style scoped>\n",
       "    .dataframe tbody tr th:only-of-type {\n",
       "        vertical-align: middle;\n",
       "    }\n",
       "\n",
       "    .dataframe tbody tr th {\n",
       "        vertical-align: top;\n",
       "    }\n",
       "\n",
       "    .dataframe thead th {\n",
       "        text-align: right;\n",
       "    }\n",
       "</style>\n",
       "<table border=\"1\" class=\"dataframe\">\n",
       "  <thead>\n",
       "    <tr style=\"text-align: right;\">\n",
       "      <th></th>\n",
       "      <th>Unnamed: 0</th>\n",
       "      <th>Review Rating</th>\n",
       "    </tr>\n",
       "  </thead>\n",
       "  <tbody>\n",
       "    <tr>\n",
       "      <th>0</th>\n",
       "      <td>0</td>\n",
       "      <td>3</td>\n",
       "    </tr>\n",
       "    <tr>\n",
       "      <th>1</th>\n",
       "      <td>1</td>\n",
       "      <td>8</td>\n",
       "    </tr>\n",
       "    <tr>\n",
       "      <th>2</th>\n",
       "      <td>2</td>\n",
       "      <td>8</td>\n",
       "    </tr>\n",
       "    <tr>\n",
       "      <th>3</th>\n",
       "      <td>3</td>\n",
       "      <td>3</td>\n",
       "    </tr>\n",
       "    <tr>\n",
       "      <th>4</th>\n",
       "      <td>4</td>\n",
       "      <td>5</td>\n",
       "    </tr>\n",
       "    <tr>\n",
       "      <th>5</th>\n",
       "      <td>5</td>\n",
       "      <td>8</td>\n",
       "    </tr>\n",
       "    <tr>\n",
       "      <th>6</th>\n",
       "      <td>6</td>\n",
       "      <td>5</td>\n",
       "    </tr>\n",
       "    <tr>\n",
       "      <th>7</th>\n",
       "      <td>7</td>\n",
       "      <td>6</td>\n",
       "    </tr>\n",
       "  </tbody>\n",
       "</table>\n",
       "</div>"
      ],
      "text/plain": [
       "   Unnamed: 0  Review Rating\n",
       "0           0              3\n",
       "1           1              8\n",
       "2           2              8\n",
       "3           3              3\n",
       "4           4              5\n",
       "5           5              8\n",
       "6           6              5\n",
       "7           7              6"
      ]
     },
     "execution_count": 27,
     "metadata": {},
     "output_type": "execute_result"
    }
   ],
   "source": [
    "import pandas as pd\n",
    "df = pd.read_csv(\"IMDB Horror movies.csv\")\n",
    "df.head(8)"
   ]
  },
  {
   "cell_type": "code",
   "execution_count": 28,
   "id": "be150d45",
   "metadata": {},
   "outputs": [
    {
     "name": "stdout",
     "output_type": "stream",
     "text": [
      "<class 'pandas.core.frame.DataFrame'>\n",
      "RangeIndex: 3328 entries, 0 to 3327\n",
      "Data columns (total 2 columns):\n",
      " #   Column         Non-Null Count  Dtype\n",
      "---  ------         --------------  -----\n",
      " 0   Unnamed: 0     3328 non-null   int64\n",
      " 1   Review Rating  3328 non-null   int64\n",
      "dtypes: int64(2)\n",
      "memory usage: 52.1 KB\n"
     ]
    }
   ],
   "source": [
    "df.info()"
   ]
  },
  {
   "cell_type": "markdown",
   "id": "89c1823a",
   "metadata": {},
   "source": [
    "##### Posttest 2 Kecerdasan Buatan ketentuan 1\n",
    "\n",
    "Informasi yang didapatkan yaitu jumlah record, nama attribute, jumlah attribute dengan tipe objek, jumlah attribute dengan tipe angka, jumlah attribute yang memiliki nilai null.\n",
    "\n",
    "df.size : Berfungsi mengetahui jumlah record\n",
    "\n",
    "df.select_dtypes :Berfungsi untuk mengembalikan dataframe baru yang menyertakan kolom dari tipe yang ditentukan\n"
   ]
  },
  {
   "cell_type": "code",
   "execution_count": 29,
   "id": "8ad19c60",
   "metadata": {},
   "outputs": [
    {
     "data": {
      "text/plain": [
       "6656"
      ]
     },
     "execution_count": 29,
     "metadata": {},
     "output_type": "execute_result"
    }
   ],
   "source": [
    "df.size"
   ]
  },
  {
   "cell_type": "code",
   "execution_count": 30,
   "id": "7a143f46",
   "metadata": {},
   "outputs": [
    {
     "name": "stdout",
     "output_type": "stream",
     "text": [
      "Unnamed: 0\n",
      "Review Rating\n"
     ]
    }
   ],
   "source": [
    "for i in range (len(df.columns)):\n",
    "    print(df.columns[i])\n",
    "    i+=1\n",
    "    "
   ]
  },
  {
   "cell_type": "code",
   "execution_count": 31,
   "id": "b8920d2c",
   "metadata": {},
   "outputs": [
    {
     "data": {
      "text/plain": [
       "0"
      ]
     },
     "execution_count": 31,
     "metadata": {},
     "output_type": "execute_result"
    }
   ],
   "source": [
    "len(df.select_dtypes(['object']).columns)"
   ]
  },
  {
   "cell_type": "code",
   "execution_count": 32,
   "id": "169972f6",
   "metadata": {},
   "outputs": [
    {
     "data": {
      "text/plain": [
       "2"
      ]
     },
     "execution_count": 32,
     "metadata": {},
     "output_type": "execute_result"
    }
   ],
   "source": [
    "len(df.select_dtypes(['float64','int64']).columns)"
   ]
  },
  {
   "cell_type": "code",
   "execution_count": 33,
   "id": "3bb90797",
   "metadata": {},
   "outputs": [
    {
     "data": {
      "text/plain": [
       "0"
      ]
     },
     "execution_count": 33,
     "metadata": {},
     "output_type": "execute_result"
    }
   ],
   "source": [
    "len(df.loc[:, df.isna().any()].columns)"
   ]
  },
  {
   "cell_type": "markdown",
   "id": "f8e7fc8b",
   "metadata": {},
   "source": [
    "##### Posttest 2 Kecerdasan Buatan ketentuan 2\n",
    "\n",
    "Masukkan informasi di atas dalam dictionary dengan key sesuai nama informasinya. tampilkan isi dari \n",
    "\n",
    "mengakses dictionary dengan perulangan for\n",
    "len() : fungsi untuk mengembalikan nilai panjang (jumlah anggota) dari suatu objek"
   ]
  },
  {
   "cell_type": "code",
   "execution_count": 34,
   "id": "5c13689b",
   "metadata": {},
   "outputs": [
    {
     "name": "stdout",
     "output_type": "stream",
     "text": [
      "======================================================================\n",
      "|               Menganalisis Dataset IMDB Horror movies              |\n",
      "|                             Posttest 2                             |\n",
      "======================================================================\n",
      "Jumlah Record \t\t\t\t: 6656\n",
      "\n",
      "Jumlah Atribut \t\t\t\t: 2\n",
      "\n",
      "Jumlah Atribut dengan Tipe Objek \t: 0\n",
      "\n",
      "Jumlah Atribut dengan Tipe Angka \t: 2\n",
      "\n",
      "Jumlah Atribut yang Memiliki Nilai Null : 0\n",
      "\n",
      "========================\n",
      "  No\t| Nama Atribut\n",
      "------------------------\n",
      "  0 \t| Unnamed: 0\n",
      "  1 \t| Review Rating\n",
      "\n",
      "===============================\n",
      "  No\t| Atribut Tipe Object\n",
      "-------------------------------\n",
      "\n",
      "==============================\n",
      "  No\t| Atribut Tipe Angka\n",
      "------------------------------\n",
      "  0 \t| Unnamed: 0\n",
      "  1 \t| Review Rating\n",
      "\n",
      "=====================================\n",
      "  No\t| Atribut dengan Nilai Null\n",
      "-------------------------------------\n"
     ]
    }
   ],
   "source": [
    "movie = {\n",
    "    'jumlah_record' : df.size,\n",
    "    'nama_attribute': df.columns,\n",
    "    'attribute_objek' : df.select_dtypes(['object']).columns,\n",
    "    'attribute_angka' : df.select_dtypes(['float64','int64']).columns,\n",
    "    'attribute_null' : df.loc[:, df.isna().any()].columns\n",
    "}\n",
    "\n",
    "print(\"======================================================================\")\n",
    "print(\"|               Menganalisis Dataset IMDB Horror movies              |\")\n",
    "print(\"|                             Posttest 2                             |\")\n",
    "print(\"======================================================================\")\n",
    "print(\"Jumlah Record \\t\\t\\t\\t:\", movie['jumlah_record'])\n",
    "print(\"\\nJumlah Atribut \\t\\t\\t\\t:\", len(movie['nama_attribute']))\n",
    "print(\"\\nJumlah Atribut dengan Tipe Objek \\t:\", len(movie['attribute_objek']))\n",
    "print(\"\\nJumlah Atribut dengan Tipe Angka \\t:\", len(movie['attribute_angka']))\n",
    "print(\"\\nJumlah Atribut yang Memiliki Nilai Null :\", len(movie['attribute_null']))\n",
    "\n",
    "print(\"\\n========================\")\n",
    "print(\"  No\\t| Nama Atribut\")\n",
    "print(\"------------------------\")\n",
    "for i in range (len(movie['nama_attribute'])):\n",
    "    print(\" \", i, \"\\t|\", movie['nama_attribute'][i])\n",
    "    i+=1\n",
    "\n",
    "print(\"\\n===============================\")\n",
    "print(\"  No\\t| Atribut Tipe Object\")\n",
    "print(\"-------------------------------\")\n",
    "for i in range (len(movie['attribute_objek'])):\n",
    "    print(\" \", i, \"\\t|\", movie['attribute_objek'][i])\n",
    "    i+=1\n",
    "    \n",
    "print(\"\\n==============================\")\n",
    "print(\"  No\\t| Atribut Tipe Angka\")\n",
    "print(\"------------------------------\")\n",
    "for i in range (len(movie['attribute_angka'])):\n",
    "    print(\" \", i, \"\\t|\", movie['attribute_angka'][i])\n",
    "    i+=1\n",
    "        \n",
    "print(\"\\n=====================================\")\n",
    "print(\"  No\\t| Atribut dengan Nilai Null\")\n",
    "print(\"-------------------------------------\")\n",
    "for i in range (len(movie['attribute_null'])):\n",
    "    print(\" \", i, \"\\t|\", movie['attribute_null'][i])\n",
    "    i+=1"
   ]
  },
  {
   "cell_type": "markdown",
   "id": "3f70efde",
   "metadata": {},
   "source": [
    "###### Posttest 2 Kecerdasan Buatan Ketentuan 3\n",
    "Tampilkan rata-rata, standar deviasi, nilai minimum, nilai maksimum, Q1, Q2, dan Q3 dari attribute bertipe angka.\n",
    "\n",
    "\n",
    "df.describe() : Digunakan untuk menampilkan deskriptif statik data."
   ]
  },
  {
   "cell_type": "code",
   "execution_count": 35,
   "id": "a3530021",
   "metadata": {},
   "outputs": [
    {
     "data": {
      "text/html": [
       "<div>\n",
       "<style scoped>\n",
       "    .dataframe tbody tr th:only-of-type {\n",
       "        vertical-align: middle;\n",
       "    }\n",
       "\n",
       "    .dataframe tbody tr th {\n",
       "        vertical-align: top;\n",
       "    }\n",
       "\n",
       "    .dataframe thead th {\n",
       "        text-align: right;\n",
       "    }\n",
       "</style>\n",
       "<table border=\"1\" class=\"dataframe\">\n",
       "  <thead>\n",
       "    <tr style=\"text-align: right;\">\n",
       "      <th></th>\n",
       "      <th>Unnamed: 0</th>\n",
       "      <th>Review Rating</th>\n",
       "    </tr>\n",
       "  </thead>\n",
       "  <tbody>\n",
       "    <tr>\n",
       "      <th>count</th>\n",
       "      <td>3328.000000</td>\n",
       "      <td>3328.000000</td>\n",
       "    </tr>\n",
       "    <tr>\n",
       "      <th>mean</th>\n",
       "      <td>1663.500000</td>\n",
       "      <td>4.878005</td>\n",
       "    </tr>\n",
       "    <tr>\n",
       "      <th>std</th>\n",
       "      <td>960.855175</td>\n",
       "      <td>1.695170</td>\n",
       "    </tr>\n",
       "    <tr>\n",
       "      <th>min</th>\n",
       "      <td>0.000000</td>\n",
       "      <td>1.000000</td>\n",
       "    </tr>\n",
       "    <tr>\n",
       "      <th>25%</th>\n",
       "      <td>831.750000</td>\n",
       "      <td>4.000000</td>\n",
       "    </tr>\n",
       "    <tr>\n",
       "      <th>50%</th>\n",
       "      <td>1663.500000</td>\n",
       "      <td>5.000000</td>\n",
       "    </tr>\n",
       "    <tr>\n",
       "      <th>75%</th>\n",
       "      <td>2495.250000</td>\n",
       "      <td>6.000000</td>\n",
       "    </tr>\n",
       "    <tr>\n",
       "      <th>max</th>\n",
       "      <td>3327.000000</td>\n",
       "      <td>9.000000</td>\n",
       "    </tr>\n",
       "  </tbody>\n",
       "</table>\n",
       "</div>"
      ],
      "text/plain": [
       "        Unnamed: 0  Review Rating\n",
       "count  3328.000000    3328.000000\n",
       "mean   1663.500000       4.878005\n",
       "std     960.855175       1.695170\n",
       "min       0.000000       1.000000\n",
       "25%     831.750000       4.000000\n",
       "50%    1663.500000       5.000000\n",
       "75%    2495.250000       6.000000\n",
       "max    3327.000000       9.000000"
      ]
     },
     "execution_count": 35,
     "metadata": {},
     "output_type": "execute_result"
    }
   ],
   "source": [
    "df.describe()"
   ]
  },
  {
   "cell_type": "markdown",
   "id": "fa501402",
   "metadata": {},
   "source": [
    "##### Posttest 2 Kecerdasan Buatan Ketentuan 4\n",
    "Tampilkan nilai korelasi attribute bertipe angka.\n",
    "\n",
    "df.corr() : Berfungsi untuk mengetahui korelasi antar kolom"
   ]
  },
  {
   "cell_type": "code",
   "execution_count": 36,
   "id": "e281a4b1",
   "metadata": {},
   "outputs": [
    {
     "data": {
      "text/html": [
       "<div>\n",
       "<style scoped>\n",
       "    .dataframe tbody tr th:only-of-type {\n",
       "        vertical-align: middle;\n",
       "    }\n",
       "\n",
       "    .dataframe tbody tr th {\n",
       "        vertical-align: top;\n",
       "    }\n",
       "\n",
       "    .dataframe thead th {\n",
       "        text-align: right;\n",
       "    }\n",
       "</style>\n",
       "<table border=\"1\" class=\"dataframe\">\n",
       "  <thead>\n",
       "    <tr style=\"text-align: right;\">\n",
       "      <th></th>\n",
       "      <th>Unnamed: 0</th>\n",
       "      <th>Review Rating</th>\n",
       "    </tr>\n",
       "  </thead>\n",
       "  <tbody>\n",
       "    <tr>\n",
       "      <th>Unnamed: 0</th>\n",
       "      <td>1.000000</td>\n",
       "      <td>-0.026242</td>\n",
       "    </tr>\n",
       "    <tr>\n",
       "      <th>Review Rating</th>\n",
       "      <td>-0.026242</td>\n",
       "      <td>1.000000</td>\n",
       "    </tr>\n",
       "  </tbody>\n",
       "</table>\n",
       "</div>"
      ],
      "text/plain": [
       "               Unnamed: 0  Review Rating\n",
       "Unnamed: 0       1.000000      -0.026242\n",
       "Review Rating   -0.026242       1.000000"
      ]
     },
     "execution_count": 36,
     "metadata": {},
     "output_type": "execute_result"
    }
   ],
   "source": [
    "df.corr()"
   ]
  },
  {
   "cell_type": "markdown",
   "id": "c7fae714",
   "metadata": {},
   "source": [
    "##### Posttest 2 Kecerdasan Buatan Ketentuan 5\n",
    "Ubah nilai salah satu attribute bertipe angka menjadi desimal 3 angka dibelakang koma jika tidak ada, lakukan sebaliknya (dari desimal menjadi bilangan bulat).\n",
    "\n",
    "df.head : Berfungsi untuk menampilkan data pertama"
   ]
  },
  {
   "cell_type": "code",
   "execution_count": 37,
   "id": "4664f9e5",
   "metadata": {},
   "outputs": [
    {
     "data": {
      "text/html": [
       "<div>\n",
       "<style scoped>\n",
       "    .dataframe tbody tr th:only-of-type {\n",
       "        vertical-align: middle;\n",
       "    }\n",
       "\n",
       "    .dataframe tbody tr th {\n",
       "        vertical-align: top;\n",
       "    }\n",
       "\n",
       "    .dataframe thead th {\n",
       "        text-align: right;\n",
       "    }\n",
       "</style>\n",
       "<table border=\"1\" class=\"dataframe\">\n",
       "  <thead>\n",
       "    <tr style=\"text-align: right;\">\n",
       "      <th></th>\n",
       "      <th>Unnamed: 0</th>\n",
       "      <th>Review Rating</th>\n",
       "    </tr>\n",
       "  </thead>\n",
       "  <tbody>\n",
       "    <tr>\n",
       "      <th>0</th>\n",
       "      <td>0</td>\n",
       "      <td>3</td>\n",
       "    </tr>\n",
       "    <tr>\n",
       "      <th>1</th>\n",
       "      <td>1</td>\n",
       "      <td>8</td>\n",
       "    </tr>\n",
       "    <tr>\n",
       "      <th>2</th>\n",
       "      <td>2</td>\n",
       "      <td>8</td>\n",
       "    </tr>\n",
       "    <tr>\n",
       "      <th>3</th>\n",
       "      <td>3</td>\n",
       "      <td>3</td>\n",
       "    </tr>\n",
       "    <tr>\n",
       "      <th>4</th>\n",
       "      <td>4</td>\n",
       "      <td>5</td>\n",
       "    </tr>\n",
       "    <tr>\n",
       "      <th>5</th>\n",
       "      <td>5</td>\n",
       "      <td>8</td>\n",
       "    </tr>\n",
       "    <tr>\n",
       "      <th>6</th>\n",
       "      <td>6</td>\n",
       "      <td>5</td>\n",
       "    </tr>\n",
       "    <tr>\n",
       "      <th>7</th>\n",
       "      <td>7</td>\n",
       "      <td>6</td>\n",
       "    </tr>\n",
       "  </tbody>\n",
       "</table>\n",
       "</div>"
      ],
      "text/plain": [
       "   Unnamed: 0  Review Rating\n",
       "0           0              3\n",
       "1           1              8\n",
       "2           2              8\n",
       "3           3              3\n",
       "4           4              5\n",
       "5           5              8\n",
       "6           6              5\n",
       "7           7              6"
      ]
     },
     "execution_count": 37,
     "metadata": {},
     "output_type": "execute_result"
    }
   ],
   "source": [
    "df.head(8)"
   ]
  },
  {
   "cell_type": "code",
   "execution_count": 38,
   "id": "294ced1b",
   "metadata": {},
   "outputs": [
    {
     "data": {
      "text/html": [
       "<div>\n",
       "<style scoped>\n",
       "    .dataframe tbody tr th:only-of-type {\n",
       "        vertical-align: middle;\n",
       "    }\n",
       "\n",
       "    .dataframe tbody tr th {\n",
       "        vertical-align: top;\n",
       "    }\n",
       "\n",
       "    .dataframe thead th {\n",
       "        text-align: right;\n",
       "    }\n",
       "</style>\n",
       "<table border=\"1\" class=\"dataframe\">\n",
       "  <thead>\n",
       "    <tr style=\"text-align: right;\">\n",
       "      <th></th>\n",
       "      <th>Unnamed: 0</th>\n",
       "      <th>Review Rating</th>\n",
       "    </tr>\n",
       "  </thead>\n",
       "  <tbody>\n",
       "    <tr>\n",
       "      <th>0</th>\n",
       "      <td>0</td>\n",
       "      <td>3</td>\n",
       "    </tr>\n",
       "    <tr>\n",
       "      <th>1</th>\n",
       "      <td>1</td>\n",
       "      <td>8</td>\n",
       "    </tr>\n",
       "    <tr>\n",
       "      <th>2</th>\n",
       "      <td>2</td>\n",
       "      <td>8</td>\n",
       "    </tr>\n",
       "    <tr>\n",
       "      <th>3</th>\n",
       "      <td>3</td>\n",
       "      <td>3</td>\n",
       "    </tr>\n",
       "    <tr>\n",
       "      <th>4</th>\n",
       "      <td>4</td>\n",
       "      <td>5</td>\n",
       "    </tr>\n",
       "    <tr>\n",
       "      <th>5</th>\n",
       "      <td>5</td>\n",
       "      <td>8</td>\n",
       "    </tr>\n",
       "    <tr>\n",
       "      <th>6</th>\n",
       "      <td>6</td>\n",
       "      <td>5</td>\n",
       "    </tr>\n",
       "    <tr>\n",
       "      <th>7</th>\n",
       "      <td>7</td>\n",
       "      <td>6</td>\n",
       "    </tr>\n",
       "  </tbody>\n",
       "</table>\n",
       "</div>"
      ],
      "text/plain": [
       "   Unnamed: 0  Review Rating\n",
       "0           0              3\n",
       "1           1              8\n",
       "2           2              8\n",
       "3           3              3\n",
       "4           4              5\n",
       "5           5              8\n",
       "6           6              5\n",
       "7           7              6"
      ]
     },
     "execution_count": 38,
     "metadata": {},
     "output_type": "execute_result"
    }
   ],
   "source": [
    "df = df.fillna(0)\n",
    "df[['Review Rating']] = df[['Review Rating']].astype(int)\n",
    "df.head(8)"
   ]
  },
  {
   "cell_type": "markdown",
   "id": "f55b2fd2",
   "metadata": {},
   "source": [
    "##### Posttest 2 Kecerdasan Buatan Ketentuan 6\n",
    "\n",
    "Tampilkan 10 record pertama dari attribute bertipe angka."
   ]
  },
  {
   "cell_type": "code",
   "execution_count": 39,
   "id": "e67c2c8c",
   "metadata": {},
   "outputs": [
    {
     "data": {
      "text/html": [
       "<div>\n",
       "<style scoped>\n",
       "    .dataframe tbody tr th:only-of-type {\n",
       "        vertical-align: middle;\n",
       "    }\n",
       "\n",
       "    .dataframe tbody tr th {\n",
       "        vertical-align: top;\n",
       "    }\n",
       "\n",
       "    .dataframe thead th {\n",
       "        text-align: right;\n",
       "    }\n",
       "</style>\n",
       "<table border=\"1\" class=\"dataframe\">\n",
       "  <thead>\n",
       "    <tr style=\"text-align: right;\">\n",
       "      <th></th>\n",
       "      <th>Review Rating</th>\n",
       "    </tr>\n",
       "  </thead>\n",
       "  <tbody>\n",
       "    <tr>\n",
       "      <th>0</th>\n",
       "      <td>3</td>\n",
       "    </tr>\n",
       "    <tr>\n",
       "      <th>1</th>\n",
       "      <td>8</td>\n",
       "    </tr>\n",
       "    <tr>\n",
       "      <th>2</th>\n",
       "      <td>8</td>\n",
       "    </tr>\n",
       "    <tr>\n",
       "      <th>3</th>\n",
       "      <td>3</td>\n",
       "    </tr>\n",
       "    <tr>\n",
       "      <th>4</th>\n",
       "      <td>5</td>\n",
       "    </tr>\n",
       "    <tr>\n",
       "      <th>5</th>\n",
       "      <td>8</td>\n",
       "    </tr>\n",
       "    <tr>\n",
       "      <th>6</th>\n",
       "      <td>5</td>\n",
       "    </tr>\n",
       "    <tr>\n",
       "      <th>7</th>\n",
       "      <td>6</td>\n",
       "    </tr>\n",
       "    <tr>\n",
       "      <th>8</th>\n",
       "      <td>4</td>\n",
       "    </tr>\n",
       "    <tr>\n",
       "      <th>9</th>\n",
       "      <td>5</td>\n",
       "    </tr>\n",
       "  </tbody>\n",
       "</table>\n",
       "</div>"
      ],
      "text/plain": [
       "   Review Rating\n",
       "0              3\n",
       "1              8\n",
       "2              8\n",
       "3              3\n",
       "4              5\n",
       "5              8\n",
       "6              5\n",
       "7              6\n",
       "8              4\n",
       "9              5"
      ]
     },
     "execution_count": 39,
     "metadata": {},
     "output_type": "execute_result"
    }
   ],
   "source": [
    "df[[\"Review Rating\"]].head(10)"
   ]
  },
  {
   "cell_type": "markdown",
   "id": "7b86bf13",
   "metadata": {},
   "source": [
    "#####  Posttest 2 Kecerdasan Buatan Ketentuan 7\n",
    "Simpan dataset dengan attribute bertipe angka ke dalam file CSV."
   ]
  },
  {
   "cell_type": "code",
   "execution_count": 41,
   "id": "3a8f8e3a",
   "metadata": {},
   "outputs": [],
   "source": [
    "df[[\"Review Rating\"]].to_csv(\"IMDB Horror movies 2.csv\")"
   ]
  },
  {
   "cell_type": "code",
   "execution_count": null,
   "id": "b2d66d33",
   "metadata": {},
   "outputs": [],
   "source": []
  }
 ],
 "metadata": {
  "kernelspec": {
   "display_name": "Python 3 (ipykernel)",
   "language": "python",
   "name": "python3"
  },
  "language_info": {
   "codemirror_mode": {
    "name": "ipython",
    "version": 3
   },
   "file_extension": ".py",
   "mimetype": "text/x-python",
   "name": "python",
   "nbconvert_exporter": "python",
   "pygments_lexer": "ipython3",
   "version": "3.10.7"
  }
 },
 "nbformat": 4,
 "nbformat_minor": 5
}
